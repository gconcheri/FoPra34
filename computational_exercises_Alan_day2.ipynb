{
 "cells": [
  {
   "cell_type": "code",
   "execution_count": 1,
   "id": "e524fc32",
   "metadata": {},
   "outputs": [],
   "source": [
    "## !pip install qiskit --upgrade\n",
    "!pip install qiskit[visualization] --quiet"
   ]
  },
  {
   "cell_type": "code",
   "execution_count": 2,
   "id": "9e528715",
   "metadata": {},
   "outputs": [],
   "source": [
    "import math\n",
    "import numpy as np\n",
    "import matplotlib.pyplot as plt\n",
    "%matplotlib inline\n",
    "import qiskit\n",
    "\n",
    "from qiskit_aer.backends import AerSimulator\n",
    "from qiskit.quantum_info import Statevector, random_statevector, Pauli, SparsePauliOp\n",
    "from qiskit.visualization import plot_bloch_multivector\n",
    "from qiskit.primitives import Estimator"
   ]
  },
  {
   "cell_type": "markdown",
   "id": "5fd04328",
   "metadata": {},
   "source": [
    "# Exercise 6"
   ]
  },
  {
   "cell_type": "markdown",
   "id": "4acc5e39",
   "metadata": {},
   "source": [
    "## a)"
   ]
  },
  {
   "cell_type": "code",
   "execution_count": 3,
   "id": "d619b686",
   "metadata": {},
   "outputs": [],
   "source": [
    "def evolve_basic(circ, g, dt):\n",
    "    # Applying exp(B)\n",
    "    for i in range(len(circ.qubits)-1):\n",
    "        circ.rzz(dt/2, circ.qubits[i], circ.qubits[i+1])\n",
    "        \n",
    "    circ.barrier()\n",
    "    \n",
    "    # Applying exp(A)\n",
    "    for i in range(len(circ.qubits)):\n",
    "        circ.rx(dt*g/2, circ.qubits[i])\n",
    "\n",
    "    return circ"
   ]
  },
  {
   "cell_type": "markdown",
   "id": "fd780cf8",
   "metadata": {},
   "source": [
    "### Testing"
   ]
  },
  {
   "cell_type": "code",
   "execution_count": 4,
   "id": "f5b91c8f",
   "metadata": {
    "scrolled": false
   },
   "outputs": [
    {
     "name": "stdout",
     "output_type": "stream",
     "text": [
      "     ┌───┐      ░            ░            ░                           »\n",
      "q_0: ┤ H ├──■───░────────────░────────────░──■────────────────────────»\n",
      "     └───┘┌─┴─┐ ░ ┌───┐      ░            ░  │ZZ(0.0005)              »\n",
      "q_1: ─────┤ X ├─░─┤ H ├──■───░────────────░──■────────────■───────────»\n",
      "          └───┘ ░ └───┘┌─┴─┐ ░ ┌───┐      ░               │ZZ(0.0005) »\n",
      "q_2: ───────────░──────┤ X ├─░─┤ H ├──■───░───────────────■───────────»\n",
      "                ░      └───┘ ░ └───┘┌─┴─┐ ░                           »\n",
      "q_3: ───────────░────────────░──────┤ X ├─░───────────────────────────»\n",
      "                ░            ░      └───┘ ░                           »\n",
      "«                   ░ ┌────────────┐\n",
      "«q_0: ──────────────░─┤ Rx(0.0005) ├\n",
      "«                   ░ ├────────────┤\n",
      "«q_1: ──────────────░─┤ Rx(0.0005) ├\n",
      "«                   ░ ├────────────┤\n",
      "«q_2: ─■────────────░─┤ Rx(0.0005) ├\n",
      "«      │ZZ(0.0005)  ░ ├────────────┤\n",
      "«q_3: ─■────────────░─┤ Rx(0.0005) ├\n",
      "«                   ░ └────────────┘\n"
     ]
    }
   ],
   "source": [
    "circ = qiskit.QuantumCircuit(4)\n",
    "circ.h(0)\n",
    "circ.cx(0,1)\n",
    "circ.barrier()\n",
    "\n",
    "circ.h(1)\n",
    "circ.cx(1,2)\n",
    "circ.barrier()\n",
    "\n",
    "circ.h(2)\n",
    "circ.cx(2,3)\n",
    "circ.barrier()\n",
    "\n",
    "dt = 0.001\n",
    "g = 1.0\n",
    "evolved_circ = evolve_basic(circ, g, dt)\n",
    "print(evolved_circ)\n"
   ]
  },
  {
   "cell_type": "markdown",
   "id": "53d5f39b",
   "metadata": {},
   "source": [
    "## b)"
   ]
  },
  {
   "cell_type": "code",
   "execution_count": 5,
   "id": "511cfb9c",
   "metadata": {},
   "outputs": [],
   "source": [
    "def evolve_symmetric(circ, g, dt):\n",
    "    # Applying exp(A/2)\n",
    "    for i in range(len(circ.qubits)):\n",
    "        circ.rx(dt*g/4, circ.qubits[i])\n",
    "        \n",
    "    circ.barrier()\n",
    "        \n",
    "    # Applying exp(B)\n",
    "    for i in range(len(circ.qubits)-1):\n",
    "        circ.rzz(dt/2, circ.qubits[i], circ.qubits[i+1])\n",
    "        \n",
    "    circ.barrier()\n",
    "    \n",
    "    # Applying exp(A/2)\n",
    "    for i in range(len(circ.qubits)):\n",
    "        circ.rx(dt*g/4, circ.qubits[i])\n",
    "\n",
    "    return circ"
   ]
  },
  {
   "cell_type": "markdown",
   "id": "6365464b",
   "metadata": {},
   "source": [
    "### Testing"
   ]
  },
  {
   "cell_type": "code",
   "execution_count": 6,
   "id": "e5a95ca5",
   "metadata": {},
   "outputs": [
    {
     "name": "stdout",
     "output_type": "stream",
     "text": [
      "     ┌───┐      ░            ░            ░ ┌─────────────┐ ░              »\n",
      "q_0: ┤ H ├──■───░────────────░────────────░─┤ Rx(0.00025) ├─░──■───────────»\n",
      "     └───┘┌─┴─┐ ░ ┌───┐      ░            ░ ├─────────────┤ ░  │ZZ(0.0005) »\n",
      "q_1: ─────┤ X ├─░─┤ H ├──■───░────────────░─┤ Rx(0.00025) ├─░──■───────────»\n",
      "          └───┘ ░ └───┘┌─┴─┐ ░ ┌───┐      ░ ├─────────────┤ ░              »\n",
      "q_2: ───────────░──────┤ X ├─░─┤ H ├──■───░─┤ Rx(0.00025) ├─░──────────────»\n",
      "                ░      └───┘ ░ └───┘┌─┴─┐ ░ ├─────────────┤ ░              »\n",
      "q_3: ───────────░────────────░──────┤ X ├─░─┤ Rx(0.00025) ├─░──────────────»\n",
      "                ░            ░      └───┘ ░ └─────────────┘ ░              »\n",
      "«                                ░ ┌─────────────┐\n",
      "«q_0: ───────────────────────────░─┤ Rx(0.00025) ├\n",
      "«                                ░ ├─────────────┤\n",
      "«q_1: ─■─────────────────────────░─┤ Rx(0.00025) ├\n",
      "«      │ZZ(0.0005)               ░ ├─────────────┤\n",
      "«q_2: ─■────────────■────────────░─┤ Rx(0.00025) ├\n",
      "«                   │ZZ(0.0005)  ░ ├─────────────┤\n",
      "«q_3: ──────────────■────────────░─┤ Rx(0.00025) ├\n",
      "«                                ░ └─────────────┘\n"
     ]
    }
   ],
   "source": [
    "circ = qiskit.QuantumCircuit(4)\n",
    "circ.h(0)\n",
    "circ.cx(0,1)\n",
    "circ.barrier()\n",
    "\n",
    "circ.h(1)\n",
    "circ.cx(1,2)\n",
    "circ.barrier()\n",
    "\n",
    "circ.h(2)\n",
    "circ.cx(2,3)\n",
    "circ.barrier()\n",
    "\n",
    "dt = 0.001\n",
    "g = 1.0\n",
    "evolved_circ = evolve_symmetric(circ, g, dt)\n",
    "print(evolved_circ)\n"
   ]
  },
  {
   "cell_type": "markdown",
   "id": "c326808f",
   "metadata": {},
   "source": [
    "## "
   ]
  },
  {
   "cell_type": "markdown",
   "id": "6faa536d",
   "metadata": {},
   "source": [
    "# Exercise 7"
   ]
  },
  {
   "cell_type": "code",
   "execution_count": 7,
   "id": "a27cdced",
   "metadata": {},
   "outputs": [],
   "source": [
    "# Simulate time evolution\n",
    "# Extract the magnetization as a function of time mz(t)\n",
    "# N = 10 qubits\n",
    "# g = 2\n",
    "# Initial state: |psi0> = 00000...0\n",
    "# Compare result with the fcn call magn_exact_diagonalization(N, g, t, dt)\n",
    "# Final time of t=5"
   ]
  },
  {
   "cell_type": "code",
   "execution_count": 8,
   "id": "4ff3ddb6",
   "metadata": {},
   "outputs": [],
   "source": [
    "## USING ONLY THE SYMMETRIC CASE !!!\n"
   ]
  },
  {
   "cell_type": "code",
   "execution_count": 9,
   "id": "67080c9a",
   "metadata": {},
   "outputs": [],
   "source": [
    "def individual_mz(bitstring):\n",
    "    int_array = [int(x) for x in list(bitstring) if x!=' ']\n",
    "    count_1 = sum(int_array)\n",
    "    count_0 = len(int_array) - sum(int_array)\n",
    "    \n",
    "    return (count_1 - count_0)/len(int_array)\n",
    "\n",
    "def avg_mz(counts_dict):\n",
    "    numerator = denominator = 0\n",
    "    for key in counts_dict:\n",
    "        mz = individual_mz(key)\n",
    "        numerator += mz*counts_dict[key]\n",
    "        denominator += counts_dict[key]\n",
    "    \n",
    "    return numerator/denominator"
   ]
  },
  {
   "cell_type": "code",
   "execution_count": 10,
   "id": "92960d91",
   "metadata": {},
   "outputs": [
    {
     "name": "stdout",
     "output_type": "stream",
     "text": [
      "0.1111111111111111\n"
     ]
    }
   ],
   "source": [
    "print(individual_mz('100101011'))"
   ]
  },
  {
   "cell_type": "code",
   "execution_count": 11,
   "id": "334a213c",
   "metadata": {},
   "outputs": [
    {
     "data": {
      "text/plain": [
       "0.030303030303030276"
      ]
     },
     "execution_count": 11,
     "metadata": {},
     "output_type": "execute_result"
    }
   ],
   "source": [
    "dic = {'110': 3, '101': 4, '100': 3, '000': 1}\n",
    "avg_mz(dic)"
   ]
  },
  {
   "cell_type": "code",
   "execution_count": 12,
   "id": "faf6d190",
   "metadata": {},
   "outputs": [],
   "source": [
    "sim = AerSimulator()\n",
    "\n",
    "N_shots = 1000  # number of measurements\n",
    "dt = 0.03\n",
    "g = 2.0\n",
    "t_max = int(5/dt)\n",
    "time_list = []\n",
    "magnetization_list = []\n",
    "\n",
    "for exp_duration in range(t_max):\n",
    "    evolved_circ = qiskit.QuantumCircuit(10)\n",
    "\n",
    "    for t in range(exp_duration):\n",
    "        evolved_circ = evolve_symmetric(evolved_circ, g, dt)\n",
    "    \n",
    "    evolved_circ.measure_all()\n",
    "    result = sim.run(evolved_circ, shots=N_shots).result()\n",
    "    counts_dict = result.get_counts(evolved_circ)\n",
    "\n",
    "    avg_magnetization = avg_mz(counts_dict)\n",
    "    time_list.append(exp_duration*dt)\n",
    "    magnetization_list.append(avg_magnetization)\n"
   ]
  },
  {
   "cell_type": "code",
   "execution_count": 13,
   "id": "01dc0650",
   "metadata": {},
   "outputs": [
    {
     "data": {
      "text/plain": [
       "[<matplotlib.lines.Line2D at 0x7f3f2bb68910>]"
      ]
     },
     "execution_count": 13,
     "metadata": {},
     "output_type": "execute_result"
    },
    {
     "data": {
      "image/png": "[encoded data removed]",
      "text/plain": [
       "<Figure size 640x480 with 1 Axes>"
      ]
     },
     "metadata": {},
     "output_type": "display_data"
    }
   ],
   "source": [
    "plt.plot(time_list, magnetization_list)"
   ]
  },
  {
   "cell_type": "code",
   "execution_count": 14,
   "id": "5a43e921",
   "metadata": {},
   "outputs": [],
   "source": [
    "import numpy as np\n",
    "\n",
    "# define basic Pauli matrices\n",
    "s_alpha = [np.array([[1, 0], [0, 1]], dtype='complex'),\n",
    "           np.array([[0, 1], [1, 0]], dtype='complex'),\n",
    "           np.array([[0, -1j], [1j, 0]],dtype='complex'),\n",
    "           np.array([[1, 0], [0, -1]], dtype='complex')]\n",
    "\n",
    "\n",
    "# define the many-body spin operators\n",
    "def sp(alpha, n, N):\n",
    "    Sa = s_alpha[alpha]\n",
    "    for i in range(n):\n",
    "        Sa = np.kron(s_alpha[0], Sa)\n",
    "    for j in range(n+1, N):\n",
    "        Sa = np.kron(Sa, s_alpha[0])\n",
    "    return Sa\n",
    "\n",
    "\n",
    "def magn_exact_diagonalization(N, g, t, Npoints):\n",
    "    \"\"\"\n",
    "    Benchmark the Trotterized circuit evolution with the exact Hamiltonian time evolution,\n",
    "    obtained through exact diagonalization (only for small system sizes N!). \n",
    "    This function returns the magnetization for equally spaced timesteps between  0  and  t .\n",
    "    \"\"\"\n",
    "    # array containing the magnetization of individual basis states\n",
    "    magnetization_basis_states = -np.array( [np.sum(2*np.array([int(bin(n)[2:].zfill(N)[i]) for i in range(N)]) - 1.0)/N for n in range(2**N)] )\n",
    "\n",
    "    # create the hamiltonian\n",
    "    hamiltonian = np.zeros((2**N, 2**N), dtype='complex')\n",
    "    for i in range(N):\n",
    "        hamiltonian += g/2*sp(1, i, N)\n",
    "        if i != N-1:\n",
    "            hamiltonian += -1/2*sp(3, i, N) @ sp(3, i+1, N)\n",
    "\n",
    "    # diagonalize\n",
    "    E, V = np.linalg.eig(hamiltonian)\n",
    "\n",
    "    # time evolve\n",
    "    magnetization = np.zeros(Npoints)\n",
    "    initial_state = np.array([int(n==0) for n in range(2**N)])\n",
    "    overlap = V.transpose().conj() @ initial_state\n",
    "    for ind,T in enumerate(np.linspace(0,t,Npoints)):\n",
    "        state_evolved = V @ (np.exp(-1j*T*E) * overlap)\n",
    "        magnetization[ind] = np.sum(magnetization_basis_states * np.abs(state_evolved)**2)\n",
    "\n",
    "    return magnetization\n",
    "\n",
    "\n",
    "# Useful functions to verify whether a given density matrix is physical\n",
    "\n",
    "def is_Hermitian(M, rtol = 1e-5, atol = 1e-9):\n",
    "    return np.allclose(M, np.conjugate(M.T), rtol=rtol, atol=atol)\n",
    "\n",
    "def is_positive(M, tol = 1e-7):\n",
    "    s = np.linalg.eigvalsh(M)\n",
    "    assert (s[0] > -tol)\n",
    "    for i in range(len(s)):\n",
    "      if s[i] <= 0:\n",
    "         s[i] = 1e-12\n",
    "    return s"
   ]
  },
  {
   "cell_type": "code",
   "execution_count": 15,
   "id": "6d75161f",
   "metadata": {},
   "outputs": [
    {
     "ename": "TypeError",
     "evalue": "expected a sequence of integers or a single integer, got '0.03'",
     "output_type": "error",
     "traceback": [
      "\u001b[0;31m---------------------------------------------------------------------------\u001b[0m",
      "\u001b[0;31mTypeError\u001b[0m                                 Traceback (most recent call last)",
      "Cell \u001b[0;32mIn[15], line 4\u001b[0m\n\u001b[1;32m      2\u001b[0m magn_exact_list \u001b[38;5;241m=\u001b[39m []\n\u001b[1;32m      3\u001b[0m \u001b[38;5;28;01mfor\u001b[39;00m exp_duration \u001b[38;5;129;01min\u001b[39;00m \u001b[38;5;28mrange\u001b[39m(t_max):\n\u001b[0;32m----> 4\u001b[0m     magn_exact_list\u001b[38;5;241m.\u001b[39mappend(\u001b[43mmagn_exact_diagonalization\u001b[49m\u001b[43m(\u001b[49m\u001b[43mN\u001b[49m\u001b[43m,\u001b[49m\u001b[43m \u001b[49m\u001b[43mg\u001b[49m\u001b[43m,\u001b[49m\u001b[43m \u001b[49m\u001b[43mexp_duration\u001b[49m\u001b[43m,\u001b[49m\u001b[43m \u001b[49m\u001b[43mdt\u001b[49m\u001b[43m)\u001b[49m)\n",
      "Cell \u001b[0;32mIn[14], line 40\u001b[0m, in \u001b[0;36mmagn_exact_diagonalization\u001b[0;34m(N, g, t, Npoints)\u001b[0m\n\u001b[1;32m     37\u001b[0m E, V \u001b[38;5;241m=\u001b[39m np\u001b[38;5;241m.\u001b[39mlinalg\u001b[38;5;241m.\u001b[39meig(hamiltonian)\n\u001b[1;32m     39\u001b[0m \u001b[38;5;66;03m# time evolve\u001b[39;00m\n\u001b[0;32m---> 40\u001b[0m magnetization \u001b[38;5;241m=\u001b[39m \u001b[43mnp\u001b[49m\u001b[38;5;241;43m.\u001b[39;49m\u001b[43mzeros\u001b[49m\u001b[43m(\u001b[49m\u001b[43mNpoints\u001b[49m\u001b[43m)\u001b[49m\n\u001b[1;32m     41\u001b[0m initial_state \u001b[38;5;241m=\u001b[39m np\u001b[38;5;241m.\u001b[39marray([\u001b[38;5;28mint\u001b[39m(n\u001b[38;5;241m==\u001b[39m\u001b[38;5;241m0\u001b[39m) \u001b[38;5;28;01mfor\u001b[39;00m n \u001b[38;5;129;01min\u001b[39;00m \u001b[38;5;28mrange\u001b[39m(\u001b[38;5;241m2\u001b[39m\u001b[38;5;241m*\u001b[39m\u001b[38;5;241m*\u001b[39mN)])\n\u001b[1;32m     42\u001b[0m overlap \u001b[38;5;241m=\u001b[39m V\u001b[38;5;241m.\u001b[39mtranspose()\u001b[38;5;241m.\u001b[39mconj() \u001b[38;5;241m@\u001b[39m initial_state\n",
      "\u001b[0;31mTypeError\u001b[0m: expected a sequence of integers or a single integer, got '0.03'"
     ]
    }
   ],
   "source": [
    "N = 10\n",
    "magn_exact_list = []\n",
    "for exp_duration in range(t_max):\n",
    "    magn_exact_list.append(magn_exact_diagonalization(N, g, exp_duration, dt))"
   ]
  },
  {
   "cell_type": "code",
   "execution_count": null,
   "id": "bba3d902",
   "metadata": {},
   "outputs": [],
   "source": []
  }
 ],
 "metadata": {
  "kernelspec": {
   "display_name": "venv",
   "language": "python",
   "name": "venv"
  },
  "language_info": {
   "codemirror_mode": {
    "name": "ipython",
    "version": 3
   },
   "file_extension": ".py",
   "mimetype": "text/x-python",
   "name": "python",
   "nbconvert_exporter": "python",
   "pygments_lexer": "ipython3",
   "version": "3.10.12"
  }
 },
 "nbformat": 4,
 "nbformat_minor": 5
}
