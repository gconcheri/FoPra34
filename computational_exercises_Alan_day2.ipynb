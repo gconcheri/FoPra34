{
 "cells": [
  {
   "cell_type": "code",
   "execution_count": 1,
   "id": "e524fc32",
   "metadata": {},
   "outputs": [],
   "source": [
    "## !pip install qiskit --upgrade\n",
    "!pip install qiskit[visualization] --quiet"
   ]
  },
  {
   "cell_type": "code",
   "execution_count": 2,
   "id": "9e528715",
   "metadata": {},
   "outputs": [],
   "source": [
    "import matplotlib.pyplot as plt\n",
    "%matplotlib inline\n",
    "import qiskit\n",
    "from qiskit_aer.backends import AerSimulator"
   ]
  },
  {
   "cell_type": "markdown",
   "id": "5fd04328",
   "metadata": {},
   "source": [
    "# Exercise 6"
   ]
  },
  {
   "cell_type": "markdown",
   "id": "4acc5e39",
   "metadata": {},
   "source": [
    "## a)"
   ]
  },
  {
   "cell_type": "code",
   "execution_count": 3,
   "id": "d619b686",
   "metadata": {},
   "outputs": [],
   "source": [
    "def evolve_basic(circ, g, dt):\n",
    "    # Applying exp(B)\n",
    "    for i in range(len(circ.qubits)-1):\n",
    "        circ.rzz(-dt, circ.qubits[i], circ.qubits[i+1])\n",
    "        \n",
    "    circ.barrier()\n",
    "    \n",
    "    # Applying exp(A)\n",
    "    for i in range(len(circ.qubits)):\n",
    "        circ.rx(-dt*g, circ.qubits[i])\n",
    "\n",
    "    return circ"
   ]
  },
  {
   "cell_type": "markdown",
   "id": "fd780cf8",
   "metadata": {},
   "source": [
    "### Testing"
   ]
  },
  {
   "cell_type": "code",
   "execution_count": 4,
   "id": "f5b91c8f",
   "metadata": {
    "scrolled": false
   },
   "outputs": [
    {
     "name": "stdout",
     "output_type": "stream",
     "text": [
      "     ┌───┐      ░            ░            ░                           »\n",
      "q_0: ┤ H ├──■───░────────────░────────────░──■────────────────────────»\n",
      "     └───┘┌─┴─┐ ░ ┌───┐      ░            ░  │ZZ(-0.001)              »\n",
      "q_1: ─────┤ X ├─░─┤ H ├──■───░────────────░──■────────────■───────────»\n",
      "          └───┘ ░ └───┘┌─┴─┐ ░ ┌───┐      ░               │ZZ(-0.001) »\n",
      "q_2: ───────────░──────┤ X ├─░─┤ H ├──■───░───────────────■───────────»\n",
      "                ░      └───┘ ░ └───┘┌─┴─┐ ░                           »\n",
      "q_3: ───────────░────────────░──────┤ X ├─░───────────────────────────»\n",
      "                ░            ░      └───┘ ░                           »\n",
      "«                   ░ ┌────────────┐\n",
      "«q_0: ──────────────░─┤ Rx(-0.001) ├\n",
      "«                   ░ ├────────────┤\n",
      "«q_1: ──────────────░─┤ Rx(-0.001) ├\n",
      "«                   ░ ├────────────┤\n",
      "«q_2: ─■────────────░─┤ Rx(-0.001) ├\n",
      "«      │ZZ(-0.001)  ░ ├────────────┤\n",
      "«q_3: ─■────────────░─┤ Rx(-0.001) ├\n",
      "«                   ░ └────────────┘\n"
     ]
    }
   ],
   "source": [
    "circ = qiskit.QuantumCircuit(4)\n",
    "circ.h(0)\n",
    "circ.cx(0,1)\n",
    "circ.barrier()\n",
    "\n",
    "circ.h(1)\n",
    "circ.cx(1,2)\n",
    "circ.barrier()\n",
    "\n",
    "circ.h(2)\n",
    "circ.cx(2,3)\n",
    "circ.barrier()\n",
    "\n",
    "dt = 0.001\n",
    "g = 1.0\n",
    "evolved_circ = evolve_basic(circ, g, dt)\n",
    "print(evolved_circ)\n"
   ]
  },
  {
   "cell_type": "markdown",
   "id": "53d5f39b",
   "metadata": {},
   "source": [
    "## b)"
   ]
  },
  {
   "cell_type": "code",
   "execution_count": 5,
   "id": "511cfb9c",
   "metadata": {},
   "outputs": [],
   "source": [
    "def evolve_symmetric(circ, g, dt):\n",
    "    # Applying exp(A/2)\n",
    "    for i in range(len(circ.qubits)):\n",
    "        circ.rx(-dt*g/2, circ.qubits[i])\n",
    "        \n",
    "    circ.barrier()\n",
    "        \n",
    "    # Applying exp(B)\n",
    "    for i in range(len(circ.qubits)-1):\n",
    "        circ.rzz(-dt, circ.qubits[i], circ.qubits[i+1])\n",
    "        \n",
    "    circ.barrier()\n",
    "    \n",
    "    # Applying exp(A/2)\n",
    "    for i in range(len(circ.qubits)):\n",
    "        circ.rx(-dt*g/2, circ.qubits[i])\n",
    "\n",
    "    return circ"
   ]
  },
  {
   "cell_type": "markdown",
   "id": "6365464b",
   "metadata": {},
   "source": [
    "### Testing"
   ]
  },
  {
   "cell_type": "code",
   "execution_count": 6,
   "id": "e5a95ca5",
   "metadata": {},
   "outputs": [
    {
     "name": "stdout",
     "output_type": "stream",
     "text": [
      "     ┌───┐      ░            ░            ░ ┌─────────────┐ ░              »\n",
      "q_0: ┤ H ├──■───░────────────░────────────░─┤ Rx(-0.0005) ├─░──■───────────»\n",
      "     └───┘┌─┴─┐ ░ ┌───┐      ░            ░ ├─────────────┤ ░  │ZZ(-0.001) »\n",
      "q_1: ─────┤ X ├─░─┤ H ├──■───░────────────░─┤ Rx(-0.0005) ├─░──■───────────»\n",
      "          └───┘ ░ └───┘┌─┴─┐ ░ ┌───┐      ░ ├─────────────┤ ░              »\n",
      "q_2: ───────────░──────┤ X ├─░─┤ H ├──■───░─┤ Rx(-0.0005) ├─░──────────────»\n",
      "                ░      └───┘ ░ └───┘┌─┴─┐ ░ ├─────────────┤ ░              »\n",
      "q_3: ───────────░────────────░──────┤ X ├─░─┤ Rx(-0.0005) ├─░──────────────»\n",
      "                ░            ░      └───┘ ░ └─────────────┘ ░              »\n",
      "«                                ░ ┌─────────────┐\n",
      "«q_0: ───────────────────────────░─┤ Rx(-0.0005) ├\n",
      "«                                ░ ├─────────────┤\n",
      "«q_1: ─■─────────────────────────░─┤ Rx(-0.0005) ├\n",
      "«      │ZZ(-0.001)               ░ ├─────────────┤\n",
      "«q_2: ─■────────────■────────────░─┤ Rx(-0.0005) ├\n",
      "«                   │ZZ(-0.001)  ░ ├─────────────┤\n",
      "«q_3: ──────────────■────────────░─┤ Rx(-0.0005) ├\n",
      "«                                ░ └─────────────┘\n"
     ]
    }
   ],
   "source": [
    "circ = qiskit.QuantumCircuit(4)\n",
    "circ.h(0)\n",
    "circ.cx(0,1)\n",
    "circ.barrier()\n",
    "\n",
    "circ.h(1)\n",
    "circ.cx(1,2)\n",
    "circ.barrier()\n",
    "\n",
    "circ.h(2)\n",
    "circ.cx(2,3)\n",
    "circ.barrier()\n",
    "\n",
    "dt = 0.001\n",
    "g = 1.0\n",
    "evolved_circ = evolve_symmetric(circ, g, dt)\n",
    "print(evolved_circ)\n"
   ]
  },
  {
   "cell_type": "markdown",
   "id": "c326808f",
   "metadata": {},
   "source": [
    "## "
   ]
  },
  {
   "cell_type": "markdown",
   "id": "6faa536d",
   "metadata": {},
   "source": [
    "# Exercise 7"
   ]
  },
  {
   "cell_type": "code",
   "execution_count": 7,
   "id": "67080c9a",
   "metadata": {},
   "outputs": [],
   "source": [
    "def individual_mz(bitstring):\n",
    "    int_array = [int(x) for x in list(bitstring) if x!=' ']\n",
    "    count_1 = sum(int_array)\n",
    "    count_0 = len(int_array) - sum(int_array)\n",
    "    \n",
    "    return (count_0 - count_1)/len(int_array)\n",
    "\n",
    "def avg_mz(counts_dict):\n",
    "    numerator = denominator = 0\n",
    "    for key in counts_dict:\n",
    "        mz = individual_mz(key)\n",
    "        numerator += mz*counts_dict[key]\n",
    "        denominator += counts_dict[key]\n",
    "    \n",
    "    return numerator/denominator"
   ]
  },
  {
   "cell_type": "code",
   "execution_count": 8,
   "id": "57ff73f9",
   "metadata": {},
   "outputs": [],
   "source": [
    "# BASIC EVOLUTION\n",
    "\n",
    "sim = AerSimulator()\n",
    "\n",
    "N_shots = 1000  # number of measurements\n",
    "dt = 0.03\n",
    "g = 2.0\n",
    "t_max = int(5/dt)\n",
    "time_list = []\n",
    "magnetization_list_basic = []\n",
    "\n",
    "for exp_duration in range(t_max):\n",
    "    evolved_circ = qiskit.QuantumCircuit(10)\n",
    "\n",
    "    for t in range(exp_duration):\n",
    "        evolved_circ = evolve_basic(evolved_circ, g, dt)\n",
    "    \n",
    "    evolved_circ.measure_all()\n",
    "    result = sim.run(evolved_circ, shots=N_shots).result()\n",
    "    counts_dict = result.get_counts(evolved_circ)\n",
    "\n",
    "    avg_magnetization = avg_mz(counts_dict)\n",
    "    time_list.append(exp_duration*dt)\n",
    "    magnetization_list_basic.append(avg_magnetization)"
   ]
  },
  {
   "cell_type": "code",
   "execution_count": 9,
   "id": "faf6d190",
   "metadata": {},
   "outputs": [],
   "source": [
    "# SYMMETRIC EVOLUTION\n",
    "\n",
    "sim = AerSimulator()\n",
    "\n",
    "N_shots = 1000  # number of measurements\n",
    "dt = 0.03\n",
    "g = 2.0\n",
    "t_max = int(5/dt)\n",
    "time_list = []\n",
    "magnetization_list_symmetric = []\n",
    "\n",
    "for exp_duration in range(t_max):\n",
    "    evolved_circ = qiskit.QuantumCircuit(10)\n",
    "\n",
    "    for t in range(exp_duration):\n",
    "        evolved_circ = evolve_symmetric(evolved_circ, g, dt)\n",
    "    \n",
    "    evolved_circ.measure_all()\n",
    "    result = sim.run(evolved_circ, shots=N_shots).result()\n",
    "    counts_dict = result.get_counts(evolved_circ)\n",
    "\n",
    "    avg_magnetization = avg_mz(counts_dict)\n",
    "    time_list.append(exp_duration*dt)\n",
    "    magnetization_list_symmetric.append(avg_magnetization)\n"
   ]
  },
  {
   "cell_type": "code",
   "execution_count": 10,
   "id": "5a43e921",
   "metadata": {},
   "outputs": [],
   "source": [
    "import numpy as np\n",
    "\n",
    "# define basic Pauli matrices\n",
    "s_alpha = [np.array([[1, 0], [0, 1]], dtype='complex'),\n",
    "           np.array([[0, 1], [1, 0]], dtype='complex'),\n",
    "           np.array([[0, -1j], [1j, 0]],dtype='complex'),\n",
    "           np.array([[1, 0], [0, -1]], dtype='complex')]\n",
    "\n",
    "\n",
    "# define the many-body spin operators\n",
    "def sp(alpha, n, N):\n",
    "    Sa = s_alpha[alpha]\n",
    "    for i in range(n):\n",
    "        Sa = np.kron(s_alpha[0], Sa)\n",
    "    for j in range(n+1, N):\n",
    "        Sa = np.kron(Sa, s_alpha[0])\n",
    "    return Sa\n",
    "\n",
    "\n",
    "def magn_exact_diagonalization(N, g, t, Npoints):\n",
    "    \"\"\"\n",
    "    Benchmark the Trotterized circuit evolution with the exact Hamiltonian time evolution,\n",
    "    obtained through exact diagonalization (only for small system sizes N!). \n",
    "    This function returns the magnetization for equally spaced timesteps between  0  and  t .\n",
    "    \"\"\"\n",
    "    # array containing the magnetization of individual basis states\n",
    "    magnetization_basis_states = -np.array( [np.sum(2*np.array([int(bin(n)[2:].zfill(N)[i]) for i in range(N)]) - 1.0)/N for n in range(2**N)] )\n",
    "\n",
    "    # create the hamiltonian\n",
    "    hamiltonian = np.zeros((2**N, 2**N), dtype='complex')\n",
    "    for i in range(N):\n",
    "        hamiltonian += g/2*sp(1, i, N)\n",
    "        if i != N-1:\n",
    "            hamiltonian += -1/2*sp(3, i, N) @ sp(3, i+1, N)\n",
    "\n",
    "    # diagonalize\n",
    "    E, V = np.linalg.eig(hamiltonian)\n",
    "\n",
    "    # time evolve\n",
    "    magnetization = np.zeros(Npoints)\n",
    "    initial_state = np.array([int(n==0) for n in range(2**N)])\n",
    "    overlap = V.transpose().conj() @ initial_state\n",
    "    for ind,T in enumerate(np.linspace(0,t,Npoints)):\n",
    "        state_evolved = V @ (np.exp(-1j*T*E) * overlap)\n",
    "        magnetization[ind] = np.sum(magnetization_basis_states * np.abs(state_evolved)**2)\n",
    "\n",
    "    return magnetization\n",
    "\n",
    "\n",
    "# Useful functions to verify whether a given density matrix is physical\n",
    "\n",
    "def is_Hermitian(M, rtol = 1e-5, atol = 1e-9):\n",
    "    return np.allclose(M, np.conjugate(M.T), rtol=rtol, atol=atol)\n",
    "\n",
    "def is_positive(M, tol = 1e-7):\n",
    "    s = np.linalg.eigvalsh(M)\n",
    "    assert (s[0] > -tol)\n",
    "    for i in range(len(s)):\n",
    "      if s[i] <= 0:\n",
    "         s[i] = 1e-12\n",
    "    return s"
   ]
  },
  {
   "cell_type": "code",
   "execution_count": 11,
   "id": "6d75161f",
   "metadata": {},
   "outputs": [],
   "source": [
    "N = 10\n",
    "dt = 0.03\n",
    "g = 2.0\n",
    "t_max = int(5/dt)\n",
    "t = 5\n",
    "exact_diagonalization = magn_exact_diagonalization(N, g, t, t_max)"
   ]
  },
  {
   "cell_type": "code",
   "execution_count": 12,
   "id": "bba3d902",
   "metadata": {},
   "outputs": [
    {
     "data": {
      "text/plain": [
       "Text(0, 0.5, 'Magnetization')"
      ]
     },
     "execution_count": 12,
     "metadata": {},
     "output_type": "execute_result"
    },
    {
     "data": {
      "image/png": "[encoded data removed]",
      "text/plain": [
       "<Figure size 640x480 with 1 Axes>"
      ]
     },
     "metadata": {},
     "output_type": "display_data"
    }
   ],
   "source": [
    "plt.plot(time_list, exact_diagonalization, label='Exact diagonalization')\n",
    "plt.plot(time_list, magnetization_list_basic, label='Basic evolution')\n",
    "plt.plot(time_list, magnetization_list_symmetric, label='Symmetric evolution')\n",
    "plt.legend()\n",
    "plt.title(\"Average magnetization for the three methods\")\n",
    "plt.xlabel(\"Time [s]\")\n",
    "plt.ylabel(\"Magnetization\")\n"
   ]
  },
  {
   "cell_type": "code",
   "execution_count": null,
   "id": "5cd67d86",
   "metadata": {},
   "outputs": [],
   "source": []
  },
  {
   "cell_type": "code",
   "execution_count": null,
   "id": "3974ba8c",
   "metadata": {},
   "outputs": [],
   "source": []
  }
 ],
 "metadata": {
  "kernelspec": {
   "display_name": "venv",
   "language": "python",
   "name": "python3"
  },
  "language_info": {
   "codemirror_mode": {
    "name": "ipython",
    "version": 3
   },
   "file_extension": ".py",
   "mimetype": "text/x-python",
   "name": "python",
   "nbconvert_exporter": "python",
   "pygments_lexer": "ipython3",
   "version": "3.10.12"
  }
 },
 "nbformat": 4,
 "nbformat_minor": 5
}
