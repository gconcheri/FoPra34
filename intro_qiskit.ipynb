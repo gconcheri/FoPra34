{
 "cells": [
  {
   "cell_type": "markdown",
   "metadata": {
    "id": "M5Tch-ml1aKc"
   },
   "source": [
    "First make sure that Qiskit is installed properly"
   ]
  },
  {
   "cell_type": "code",
   "execution_count": 11,
   "metadata": {
    "colab": {
     "base_uri": "https://localhost:8080/"
    },
    "id": "tklwwLDW1dHx",
    "outputId": "0c89e821-1a26-4a80-9e0e-e9bafccc9f73"
   },
   "outputs": [
    {
     "name": "stdout",
     "output_type": "stream",
     "text": [
      "zsh:1: no matches found: qiskit[visualization]\n"
     ]
    }
   ],
   "source": [
    "!pip install qiskit[visualization] --quiet"
   ]
  },
  {
   "cell_type": "code",
   "execution_count": 12,
   "metadata": {
    "id": "rYvJ2ooQ1aKf"
   },
   "outputs": [],
   "source": [
    "import qiskit"
   ]
  },
  {
   "cell_type": "markdown",
   "metadata": {
    "id": "6kgkixdC1aKg"
   },
   "source": [
    "### Building a Circuit and the Circuit Structure"
   ]
  },
  {
   "cell_type": "code",
   "execution_count": 13,
   "metadata": {
    "colab": {
     "base_uri": "https://localhost:8080/"
    },
    "id": "9jonBujo1aKi",
    "outputId": "835ef65b-2509-4568-ac34-3c34605981bd"
   },
   "outputs": [
    {
     "name": "stdout",
     "output_type": "stream",
     "text": [
      "     ┌───┐          \n",
      "q_0: ┤ H ├──────────\n",
      "     ├───┤     ┌───┐\n",
      "q_1: ┤ H ├──■──┤ H ├\n",
      "     └───┘┌─┴─┐└───┘\n",
      "q_2: ─────┤ X ├─────\n",
      "          └───┘     \n"
     ]
    }
   ],
   "source": [
    "# 3 qubit circuit\n",
    "circ = qiskit.QuantumCircuit(3)\n",
    "\n",
    "# add a H gate on qubit 0 and 1\n",
    "circ.h(0)\n",
    "circ.h(1)\n",
    "\n",
    "# add a CNOT gate on qubits 1 and 2 and a H on qubit 1\n",
    "circ.cx(1, 2)\n",
    "\n",
    "# alternatively append gates\n",
    "hgate = qiskit.circuit.library.HGate()\n",
    "circ.append(hgate, [1])\n",
    "\n",
    "print(circ) # inline print of the circuit diagram"
   ]
  },
  {
   "cell_type": "code",
   "execution_count": 14,
   "metadata": {
    "colab": {
     "base_uri": "https://localhost:8080/",
     "height": 255
    },
    "id": "1rE1OEvJ1aKj",
    "outputId": "e461d8c9-8aef-4774-f4f8-bd73d6362712"
   },
   "outputs": [
    {
     "data": {
      "image/png": "[encoded data removed]",
      "text/plain": [
       "<Figure size 371.107x284.278 with 1 Axes>"
      ]
     },
     "execution_count": 14,
     "metadata": {},
     "output_type": "execute_result"
    }
   ],
   "source": [
    "import matplotlib.pyplot as plt\n",
    "%matplotlib inline\n",
    "\n",
    "# fancy plot with matplotlib\n",
    "circ.draw('mpl')"
   ]
  },
  {
   "cell_type": "markdown",
   "metadata": {
    "id": "ex9OtUUk1aKl"
   },
   "source": [
    "### The Quantum Gates in Qiskit\n",
    "We can access the unitary matrix of the gates in qiskit, such as the X-rotation gate $\\exp(-iX\\theta/2)$. We can also customize our own gates for simulation purpose.\n",
    "\n",
    "Usually we want to use the built-in gates in qiskit which are compatible with many of the built-in qiskit functions, e.g. in certain optimizations.\n",
    "\n",
    "You can find the list of built-in gates in the qiskit documentation `qiskit.circuit.library`."
   ]
  },
  {
   "cell_type": "code",
   "execution_count": 15,
   "metadata": {
    "colab": {
     "base_uri": "https://localhost:8080/"
    },
    "id": "7VajquMu1aKl",
    "outputId": "bd723fbf-2abb-4e34-d83b-54498882e114"
   },
   "outputs": [
    {
     "name": "stdout",
     "output_type": "stream",
     "text": [
      "Hadamard gate:\n",
      "[[ 0.70710678  0.70710678]\n",
      " [ 0.70710678 -0.70710678]]\n",
      "X-rotation:\n",
      "[[6.123234e-17+0.j 0.000000e+00-1.j]\n",
      " [0.000000e+00-1.j 6.123234e-17+0.j]]\n",
      "X power:\n",
      "[[0.5+0.5j 0.5-0.5j]\n",
      " [0.5-0.5j 0.5+0.5j]]\n",
      "CNOT:\n",
      "[[1. 0. 0. 0.]\n",
      " [0. 0. 0. 1.]\n",
      " [0. 0. 1. 0.]\n",
      " [0. 1. 0. 0.]]\n"
     ]
    }
   ],
   "source": [
    "import numpy as np\n",
    "\n",
    "# Hadamard gate\n",
    "print('Hadamard gate:')\n",
    "print(qiskit.circuit.library.HGate().to_matrix().real)\n",
    "\n",
    "# Can access the gate for X-rotation\n",
    "print('X-rotation:')\n",
    "print(qiskit.circuit.library.RXGate(np.pi).to_matrix())\n",
    "\n",
    "# for X**p gate\n",
    "print('X power:')\n",
    "print((qiskit.circuit.library.XGate()**0.5).to_matrix())\n",
    "\n",
    "# two qubit CNOT gate\n",
    "print('CNOT:')\n",
    "print(qiskit.circuit.library.CXGate().to_matrix().real)"
   ]
  },
  {
   "cell_type": "markdown",
   "metadata": {
    "id": "ta3jxHlDNIpy"
   },
   "source": [
    "Qiskit allows for general single-qubit rotation such as the following\n",
    "$$\n",
    "U(\\theta,\\phi,\\lambda) = \\left[\\begin{matrix} \\cos\\left(\\frac{\\theta}{2}\\right) & -e^{i\\lambda} \\sin\\left(\\frac{\\theta}{2}\\right) \\\\ e^{i\\phi}\\sin\\left(\\frac{\\theta}{2}\\right) & e^{i(\\phi+\\lambda)}\\cos\\left(\\frac{\\theta}{2}\\right)\n",
    "\\end{matrix}\\right]\n",
    "$$"
   ]
  },
  {
   "cell_type": "code",
   "execution_count": 6,
   "metadata": {
    "colab": {
     "base_uri": "https://localhost:8080/",
     "height": 162
    },
    "id": "dgtsvo1xNQMy",
    "outputId": "606fb671-cb8c-4856-ed1f-220064b090a9"
   },
   "outputs": [
    {
     "name": "stdout",
     "output_type": "stream",
     "text": [
      "[[ 0.70710678+0.j         -0.65328148-0.27059805j]\n",
      " [ 0.5       +0.5j         0.27059805+0.65328148j]]\n"
     ]
    },
    {
     "data": {
      "image/png": "[encoded data removed]",
      "text/plain": [
       "<Figure size 269.064x117.056 with 1 Axes>"
      ]
     },
     "execution_count": 6,
     "metadata": {},
     "output_type": "execute_result"
    }
   ],
   "source": [
    "circ = qiskit.QuantumCircuit(1)\n",
    "circ.u(np.pi/2,np.pi/4,np.pi/8,0)\n",
    "print((qiskit.circuit.library.UGate(np.pi/2,np.pi/4,np.pi/8)).to_matrix())\n",
    "\n",
    "circ.draw('mpl')"
   ]
  },
  {
   "cell_type": "markdown",
   "metadata": {
    "id": "2Rc1wvli1aKm"
   },
   "source": [
    "__WARNING!__\n",
    "\n",
    "In contrast to the convention that you might be used to qiskit encodes the qubit from right to left, e.g. if $q_0 = |1\\rangle$ and $q_1 = |0\\rangle$ the 2-qubit state is represented as $|01\\rangle$, and therefore also the tensor product is reversed, e.g. $CX$ would be represented as $X_1 \\otimes I_0$, resulting in the above matrix representation."
   ]
  },
  {
   "cell_type": "markdown",
   "metadata": {
    "id": "0g3mDAUa1aKn"
   },
   "source": [
    "### Hands-on coding\n",
    "\n",
    "Can you write a function that returns the GHZ circuit on L qubits?\n",
    "$$\n",
    "|\\psi\\rangle = \\frac{1}{\\sqrt{2}}\\left(|00\\cdots 0\\rangle + |11\\cdots 1\\rangle\\right)\n",
    "$$"
   ]
  },
  {
   "cell_type": "code",
   "execution_count": 30,
   "metadata": {
    "colab": {
     "base_uri": "https://localhost:8080/"
    },
    "id": "_n7Ec4Je1aKo",
    "outputId": "8c17254a-e30c-4c01-a693-9e3bc5eb0ed0"
   },
   "outputs": [
    {
     "name": "stdout",
     "output_type": "stream",
     "text": [
      "     ┌───┐                    \n",
      "q_0: ┤ H ├──■─────────────────\n",
      "     └───┘┌─┴─┐               \n",
      "q_1: ─────┤ X ├──■────────────\n",
      "          └───┘┌─┴─┐          \n",
      "q_2: ──────────┤ X ├──■───────\n",
      "               └───┘┌─┴─┐     \n",
      "q_3: ───────────────┤ X ├──■──\n",
      "                    └───┘┌─┴─┐\n",
      "q_4: ────────────────────┤ X ├\n",
      "                         └───┘\n"
     ]
    }
   ],
   "source": [
    "def GHZ(L):\n",
    "  ghz = qiskit.QuantumCircuit(L)\n",
    "  ghz.h(0)\n",
    "  for i in range(L-1):\n",
    "    ghz.cx(i,i+1)\n",
    "  return ghz\n",
    "\n",
    "\n",
    "print(GHZ(5))"
   ]
  },
  {
   "cell_type": "markdown",
   "metadata": {
    "id": "WclzZ-bL1aKp"
   },
   "source": [
    "### Simulating the Circuit\n",
    "Qiskit provides handy simulator methods for quantum circuits. If you are using your laptop, you will be performing classical simulation. From __simulations__ we can get access to the full wavefunction that is constructed and modified by the quantum circuit.\n",
    "\n",
    "However, if you are using a real quantum processor the wavefunciton is not accessible and you have to draw samples instead. More on that will follow later.\n",
    "\n",
    "Qiskit has many options to simulate a circuit. Here we will restrict ourself to the `AerSimulator()`, which can be used for both simulating and sampling."
   ]
  },
  {
   "cell_type": "code",
   "execution_count": 31,
   "metadata": {
    "colab": {
     "base_uri": "https://localhost:8080/",
     "height": 808
    },
    "id": "wgOVzKNi1aKq",
    "outputId": "4904b056-a3c8-4e48-b005-74ea53e7c23e"
   },
   "outputs": [
    {
     "name": "stdout",
     "output_type": "stream",
     "text": [
      "Statevector([0.70710678+0.j, 0.        +0.j, 0.        +0.j,\n",
      "             0.        +0.j, 0.        +0.j, 0.        +0.j,\n",
      "             0.        +0.j, 0.        +0.j, 0.        +0.j,\n",
      "             0.        +0.j, 0.        +0.j, 0.        +0.j,\n",
      "             0.        +0.j, 0.        +0.j, 0.        +0.j,\n",
      "             0.        +0.j, 0.        +0.j, 0.        +0.j,\n",
      "             0.        +0.j, 0.        +0.j, 0.        +0.j,\n",
      "             0.        +0.j, 0.        +0.j, 0.        +0.j,\n",
      "             0.        +0.j, 0.        +0.j, 0.        +0.j,\n",
      "             0.        +0.j, 0.        +0.j, 0.        +0.j,\n",
      "             0.        +0.j, 0.70710678+0.j],\n",
      "            dims=(2, 2, 2, 2, 2))\n"
     ]
    },
    {
     "data": {
      "text/latex": [
       "$$\\frac{\\sqrt{2}}{2} |00000\\rangle+\\frac{\\sqrt{2}}{2} |11111\\rangle$$"
      ],
      "text/plain": [
       "<IPython.core.display.Latex object>"
      ]
     },
     "metadata": {},
     "output_type": "display_data"
    },
    {
     "ename": "MissingOptionalLibraryError",
     "evalue": "\"The 'seaborn' library is required to use 'plot_state_qsphere'. You can install it with 'pip install seaborn'.\"",
     "output_type": "error",
     "traceback": [
      "\u001b[0;31m---------------------------------------------------------------------------\u001b[0m",
      "\u001b[0;31mMissingOptionalLibraryError\u001b[0m               Traceback (most recent call last)",
      "Cell \u001b[0;32mIn[31], line 18\u001b[0m\n\u001b[1;32m     15\u001b[0m display(state\u001b[38;5;241m.\u001b[39mdraw(\u001b[38;5;124m'\u001b[39m\u001b[38;5;124mlatex\u001b[39m\u001b[38;5;124m'\u001b[39m))\n\u001b[1;32m     17\u001b[0m \u001b[38;5;66;03m# draw on Bloch sphere\u001b[39;00m\n\u001b[0;32m---> 18\u001b[0m display(\u001b[43mstate\u001b[49m\u001b[38;5;241;43m.\u001b[39;49m\u001b[43mdraw\u001b[49m\u001b[43m(\u001b[49m\u001b[38;5;124;43m'\u001b[39;49m\u001b[38;5;124;43mqsphere\u001b[39;49m\u001b[38;5;124;43m'\u001b[39;49m\u001b[43m)\u001b[49m)\n",
      "File \u001b[0;32m~/miniconda3/envs/Computational/lib/python3.12/site-packages/qiskit/quantum_info/states/statevector.py:189\u001b[0m, in \u001b[0;36mStatevector.draw\u001b[0;34m(self, output, **drawer_args)\u001b[0m\n\u001b[1;32m    186\u001b[0m \u001b[38;5;66;03m# pylint: disable=cyclic-import\u001b[39;00m\n\u001b[1;32m    187\u001b[0m \u001b[38;5;28;01mfrom\u001b[39;00m \u001b[38;5;21;01mqiskit\u001b[39;00m\u001b[38;5;21;01m.\u001b[39;00m\u001b[38;5;21;01mvisualization\u001b[39;00m\u001b[38;5;21;01m.\u001b[39;00m\u001b[38;5;21;01mstate_visualization\u001b[39;00m \u001b[38;5;28;01mimport\u001b[39;00m state_drawer\n\u001b[0;32m--> 189\u001b[0m \u001b[38;5;28;01mreturn\u001b[39;00m \u001b[43mstate_drawer\u001b[49m\u001b[43m(\u001b[49m\u001b[38;5;28;43mself\u001b[39;49m\u001b[43m,\u001b[49m\u001b[43m \u001b[49m\u001b[43moutput\u001b[49m\u001b[38;5;241;43m=\u001b[39;49m\u001b[43moutput\u001b[49m\u001b[43m,\u001b[49m\u001b[43m \u001b[49m\u001b[38;5;241;43m*\u001b[39;49m\u001b[38;5;241;43m*\u001b[39;49m\u001b[43mdrawer_args\u001b[49m\u001b[43m)\u001b[49m\n",
      "File \u001b[0;32m~/miniconda3/envs/Computational/lib/python3.12/site-packages/qiskit/visualization/state_visualization.py:1463\u001b[0m, in \u001b[0;36mstate_drawer\u001b[0;34m(state, output, **drawer_args)\u001b[0m\n\u001b[1;32m   1461\u001b[0m \u001b[38;5;28;01mtry\u001b[39;00m:\n\u001b[1;32m   1462\u001b[0m     draw_func \u001b[38;5;241m=\u001b[39m drawers[output]\n\u001b[0;32m-> 1463\u001b[0m     \u001b[38;5;28;01mreturn\u001b[39;00m \u001b[43mdraw_func\u001b[49m\u001b[43m(\u001b[49m\u001b[43mstate\u001b[49m\u001b[43m,\u001b[49m\u001b[43m \u001b[49m\u001b[38;5;241;43m*\u001b[39;49m\u001b[38;5;241;43m*\u001b[39;49m\u001b[43mdrawer_args\u001b[49m\u001b[43m)\u001b[49m\n\u001b[1;32m   1464\u001b[0m \u001b[38;5;28;01mexcept\u001b[39;00m \u001b[38;5;167;01mKeyError\u001b[39;00m \u001b[38;5;28;01mas\u001b[39;00m err:\n\u001b[1;32m   1465\u001b[0m     \u001b[38;5;28;01mraise\u001b[39;00m \u001b[38;5;167;01mValueError\u001b[39;00m(\n\u001b[1;32m   1466\u001b[0m \u001b[38;5;250m        \u001b[39m\u001b[38;5;124;03m\"\"\"'{}' is not a valid option for drawing {} objects. Please choose from:\u001b[39;00m\n\u001b[1;32m   1467\u001b[0m \u001b[38;5;124;03m        'text', 'latex', 'latex_source', 'qsphere', 'hinton',\u001b[39;00m\n\u001b[0;32m   (...)\u001b[0m\n\u001b[1;32m   1470\u001b[0m         )\n\u001b[1;32m   1471\u001b[0m     ) \u001b[38;5;28;01mfrom\u001b[39;00m \u001b[38;5;21;01merr\u001b[39;00m\n",
      "File \u001b[0;32m~/miniconda3/envs/Computational/lib/python3.12/site-packages/qiskit/utils/lazy_tester.py:165\u001b[0m, in \u001b[0;36mLazyDependencyManager.require_in_call.<locals>.out\u001b[0;34m(*args, **kwargs)\u001b[0m\n\u001b[1;32m    162\u001b[0m \u001b[38;5;129m@functools\u001b[39m\u001b[38;5;241m.\u001b[39mwraps(function)\n\u001b[1;32m    163\u001b[0m \u001b[38;5;28;01mdef\u001b[39;00m \u001b[38;5;21mout\u001b[39m(\u001b[38;5;241m*\u001b[39margs, \u001b[38;5;241m*\u001b[39m\u001b[38;5;241m*\u001b[39mkwargs):\n\u001b[1;32m    164\u001b[0m     \u001b[38;5;28mself\u001b[39m\u001b[38;5;241m.\u001b[39mrequire_now(feature)\n\u001b[0;32m--> 165\u001b[0m     \u001b[38;5;28;01mreturn\u001b[39;00m \u001b[43mfunction\u001b[49m\u001b[43m(\u001b[49m\u001b[38;5;241;43m*\u001b[39;49m\u001b[43margs\u001b[49m\u001b[43m,\u001b[49m\u001b[43m \u001b[49m\u001b[38;5;241;43m*\u001b[39;49m\u001b[38;5;241;43m*\u001b[39;49m\u001b[43mkwargs\u001b[49m\u001b[43m)\u001b[49m\n",
      "File \u001b[0;32m~/miniconda3/envs/Computational/lib/python3.12/site-packages/qiskit/utils/lazy_tester.py:164\u001b[0m, in \u001b[0;36mLazyDependencyManager.require_in_call.<locals>.out\u001b[0;34m(*args, **kwargs)\u001b[0m\n\u001b[1;32m    162\u001b[0m \u001b[38;5;129m@functools\u001b[39m\u001b[38;5;241m.\u001b[39mwraps(function)\n\u001b[1;32m    163\u001b[0m \u001b[38;5;28;01mdef\u001b[39;00m \u001b[38;5;21mout\u001b[39m(\u001b[38;5;241m*\u001b[39margs, \u001b[38;5;241m*\u001b[39m\u001b[38;5;241m*\u001b[39mkwargs):\n\u001b[0;32m--> 164\u001b[0m     \u001b[38;5;28;43mself\u001b[39;49m\u001b[38;5;241;43m.\u001b[39;49m\u001b[43mrequire_now\u001b[49m\u001b[43m(\u001b[49m\u001b[43mfeature\u001b[49m\u001b[43m)\u001b[49m\n\u001b[1;32m    165\u001b[0m     \u001b[38;5;28;01mreturn\u001b[39;00m function(\u001b[38;5;241m*\u001b[39margs, \u001b[38;5;241m*\u001b[39m\u001b[38;5;241m*\u001b[39mkwargs)\n",
      "File \u001b[0;32m~/miniconda3/envs/Computational/lib/python3.12/site-packages/qiskit/utils/lazy_tester.py:221\u001b[0m, in \u001b[0;36mLazyDependencyManager.require_now\u001b[0;34m(self, feature)\u001b[0m\n\u001b[1;32m    219\u001b[0m \u001b[38;5;28;01mif\u001b[39;00m \u001b[38;5;28mself\u001b[39m:\n\u001b[1;32m    220\u001b[0m     \u001b[38;5;28;01mreturn\u001b[39;00m\n\u001b[0;32m--> 221\u001b[0m \u001b[38;5;28;01mraise\u001b[39;00m MissingOptionalLibraryError(\n\u001b[1;32m    222\u001b[0m     libname\u001b[38;5;241m=\u001b[39m\u001b[38;5;28mself\u001b[39m\u001b[38;5;241m.\u001b[39m_name, name\u001b[38;5;241m=\u001b[39mfeature, pip_install\u001b[38;5;241m=\u001b[39m\u001b[38;5;28mself\u001b[39m\u001b[38;5;241m.\u001b[39m_install, msg\u001b[38;5;241m=\u001b[39m\u001b[38;5;28mself\u001b[39m\u001b[38;5;241m.\u001b[39m_msg\n\u001b[1;32m    223\u001b[0m )\n",
      "\u001b[0;31mMissingOptionalLibraryError\u001b[0m: \"The 'seaborn' library is required to use 'plot_state_qsphere'. You can install it with 'pip install seaborn'.\""
     ]
    }
   ],
   "source": [
    "from qiskit_aer.backends import AerSimulator\n",
    "\n",
    "L = 5\n",
    "\n",
    "# initialize the simulator in the \"statevector\" mode to simulate full wave function\n",
    "sim = AerSimulator(method=\"statevector\")\n",
    "\n",
    "circ = GHZ(L)\n",
    "circ.save_statevector()  # save statevector at the end of the circuit\n",
    "state = sim.run(circ).result().get_statevector()\n",
    "\n",
    "print(state)\n",
    "\n",
    "# draw using latex\n",
    "display(state.draw('latex'))\n",
    "\n",
    "# draw on Bloch sphere\n",
    "display(state.draw('qsphere'))\n"
   ]
  },
  {
   "cell_type": "markdown",
   "metadata": {
    "id": "q5WSzKFk1aKr"
   },
   "source": [
    "next we want to compute expectation values of local operators"
   ]
  },
  {
   "cell_type": "code",
   "execution_count": 32,
   "metadata": {
    "colab": {
     "base_uri": "https://localhost:8080/"
    },
    "id": "K-kkN_IO1aKr",
    "outputId": "1309a301-f6c9-473a-c7f9-b25c93431f3e"
   },
   "outputs": [
    {
     "name": "stdout",
     "output_type": "stream",
     "text": [
      "Exact Expectation:\n",
      "<Z> on qubit 1 is 2.220446049250313e-16\n",
      "<ZZ> on qubit 1 and 2 is 1.0\n"
     ]
    }
   ],
   "source": [
    "from qiskit.quantum_info import Pauli\n",
    "\n",
    "# Expectation value computed from state vector\n",
    "print(\"Exact Expectation:\")\n",
    "print(f\"<Z> on qubit 1 is {state.expectation_value(Pauli('Z'), [1])}\")\n",
    "print(f\"<ZZ> on qubit 1 and 2 is {state.expectation_value(Pauli('ZZ'), [1, 2])}\")"
   ]
  },
  {
   "cell_type": "markdown",
   "metadata": {
    "id": "nn8ft0bE1aKs"
   },
   "source": [
    "### Measurements on a circuit\n",
    "\n",
    "On real devices we cannot simulate the full wavefunction but instead have to __measure__/ __sample__. \n",
    "In Qiskit we can mimic this by adding measurements which output the result to a classical channel."
   ]
  },
  {
   "cell_type": "code",
   "execution_count": 33,
   "metadata": {
    "id": "Pw0knVir1aKs",
    "outputId": "195da1eb-65f2-4b2f-d11d-9c06aa1e22d4"
   },
   "outputs": [
    {
     "data": {
      "image/png": "[encoded data removed]",
      "text/plain": [
       "<Figure size 436.488x284.278 with 1 Axes>"
      ]
     },
     "execution_count": 33,
     "metadata": {},
     "output_type": "execute_result"
    }
   ],
   "source": [
    "# define quantum and classical channels\n",
    "a = qiskit.QuantumRegister(1, name = 'a')\n",
    "b = qiskit.QuantumRegister(1, name = 'b')\n",
    "c = qiskit.ClassicalRegister(1, name = 'c') # classical register to store the measurement outcome\n",
    "circ = qiskit.QuantumCircuit(a, b, c) \n",
    "# alternative: qiskit.QuantumCircuit(2, 1) for 2 qubits and 1 classical channel\n",
    "\n",
    "\n",
    "circ.h(a)\n",
    "circ.cz(a, b)\n",
    "circ.barrier() # visual barrier\n",
    "circ.measure(a, c)  # measure qubit a and store the result in c\n",
    "\n",
    "circ.draw('mpl')"
   ]
  },
  {
   "cell_type": "code",
   "execution_count": 34,
   "metadata": {
    "colab": {
     "base_uri": "https://localhost:8080/",
     "height": 255
    },
    "id": "XlgbLyihSQ5L",
    "outputId": "79b0e260-4ea1-4ee3-b413-088e3dff9955"
   },
   "outputs": [
    {
     "data": {
      "image/png": "[encoded data removed]",
      "text/plain": [
       "<Figure size 621.739x284.278 with 1 Axes>"
      ]
     },
     "execution_count": 34,
     "metadata": {},
     "output_type": "execute_result"
    }
   ],
   "source": [
    "# Alternatively, we can shorten the codes using default namings.\n",
    "\n",
    "circ = qiskit.QuantumCircuit(2,2)\n",
    "circ.rx(0.2*np.pi, 0)\n",
    "circ.rzz(0.3*np.pi, 0, 1)\n",
    "circ.barrier()\n",
    "circ.measure(range(2), range(2)) # Measure the Quantum bits and store the result in the Classical bits\n",
    "circ.draw('mpl')"
   ]
  },
  {
   "cell_type": "code",
   "execution_count": 35,
   "metadata": {
    "colab": {
     "base_uri": "https://localhost:8080/",
     "height": 478
    },
    "id": "o9jl8t1w1aKt",
    "outputId": "970c1158-c38a-4d56-969d-a4b3d8ea9d74"
   },
   "outputs": [
    {
     "name": "stdout",
     "output_type": "stream",
     "text": [
      "{'01': 8, '00': 92}\n"
     ]
    },
    {
     "data": {
      "image/png": "[encoded data removed]",
      "text/plain": [
       "<Figure size 640x480 with 1 Axes>"
      ]
     },
     "execution_count": 35,
     "metadata": {},
     "output_type": "execute_result"
    }
   ],
   "source": [
    "# run the circuit above via Aer\n",
    "\n",
    "sim = AerSimulator()\n",
    "\n",
    "N_shots = 100  # number of measurements\n",
    "\n",
    "result = sim.run(circ, shots=N_shots).result()\n",
    "counts = result.get_counts(circ)\n",
    "print(counts)\n",
    "\n",
    "from qiskit.visualization import plot_histogram\n",
    "plot_histogram(counts)"
   ]
  },
  {
   "cell_type": "markdown",
   "metadata": {
    "id": "CunQjaiD1aKu"
   },
   "source": [
    "### Noise\n",
    "\n",
    "In a closed system, the quantum state is always pure. However this is not true in the real world. The system will interact with the environment and become noisy.\n",
    "\n",
    "Noise in the quantum system is in general realized by some __quantum channel__. Quantum channels map a density matrix to another density matrix of the quantum system, i.e. the quantum states are generally mixed.\n",
    "\n",
    "Noise can be included in Qiskit simulations in many ways. Let us consider an example here, and you will get to choose your favorite approach in later exercises."
   ]
  },
  {
   "cell_type": "code",
   "execution_count": 36,
   "metadata": {
    "colab": {
     "base_uri": "https://localhost:8080/",
     "height": 484
    },
    "id": "8VtrJl271aKu",
    "outputId": "2cec9f63-f039-4b9c-c91f-f5be4368d0d8"
   },
   "outputs": [
    {
     "data": {
      "image/png": "[encoded data removed]",
      "text/plain": [
       "<Figure size 640x480 with 1 Axes>"
      ]
     },
     "execution_count": 36,
     "metadata": {},
     "output_type": "execute_result"
    }
   ],
   "source": [
    "from qiskit.quantum_info import Pauli\n",
    "from qiskit_aer.noise import NoiseModel, pauli_error\n",
    "\n",
    "noisy_circ = qiskit.QuantumCircuit(4)\n",
    "noisy_circ.measure_all() # trivial circuit, just measure\n",
    "\n",
    "noise = NoiseModel()\n",
    "# initialize bitflip error with a certain probability\n",
    "p_error = 0.3\n",
    "bit_flip_error = pauli_error([(Pauli('X'), p_error), (Pauli('I'), 1-p_error)])\n",
    "\n",
    "noise.add_all_qubit_quantum_error(bit_flip_error, ['measure'])\n",
    "\n",
    "simulator = AerSimulator(noise_model = noise)\n",
    "result = simulator.run(noisy_circ, shots=200).result().get_counts(noisy_circ)\n",
    "plot_histogram(result)"
   ]
  },
  {
   "cell_type": "markdown",
   "metadata": {
    "id": "sRdXTx5Vbugs"
   },
   "source": [
    "**Question:** How do the heights relate to the number of 1's in the bitstrings?"
   ]
  },
  {
   "cell_type": "markdown",
   "metadata": {
    "id": "tHBIC24PW107"
   },
   "source": [
    "We can also add noise to the quantum operations."
   ]
  },
  {
   "cell_type": "code",
   "execution_count": 37,
   "metadata": {
    "colab": {
     "base_uri": "https://localhost:8080/",
     "height": 496
    },
    "id": "fqakl56t1aKv",
    "outputId": "9dc42ef5-af16-407b-a794-6efeb53bc916"
   },
   "outputs": [
    {
     "data": {
      "image/png": "[encoded data removed]",
      "text/plain": [
       "<Figure size 640x480 with 1 Axes>"
      ]
     },
     "execution_count": 37,
     "metadata": {},
     "output_type": "execute_result"
    }
   ],
   "source": [
    "from qiskit_aer.noise import depolarizing_error\n",
    "circ = GHZ(5)\n",
    "circ.measure_all()\n",
    "\n",
    "# Noiseless experiment\n",
    "simulator = AerSimulator()\n",
    "result = simulator.run(circ, shots = 100).result().get_counts(circ)\n",
    "plot_histogram(result)"
   ]
  },
  {
   "cell_type": "code",
   "execution_count": 38,
   "metadata": {
    "colab": {
     "base_uri": "https://localhost:8080/",
     "height": 496
    },
    "id": "vox1etNJaZ60",
    "outputId": "11abd6a3-ddd1-4fde-f243-5ecd11a2bd6b"
   },
   "outputs": [
    {
     "data": {
      "image/png": "[encoded data removed]",
      "text/plain": [
       "<Figure size 640x480 with 1 Axes>"
      ]
     },
     "execution_count": 38,
     "metadata": {},
     "output_type": "execute_result"
    }
   ],
   "source": [
    "# Noisy experiment, where CNOTs are noisy\n",
    "noise = NoiseModel()\n",
    "error = depolarizing_error(param = 0.1, num_qubits = 2)\n",
    "noise.add_all_qubit_quantum_error(error, ['cx'])\n",
    "\n",
    "simulator = AerSimulator(noise_model = noise)\n",
    "result = simulator.run(circ, shots = 100).result().get_counts(circ)\n",
    "plot_histogram(result)"
   ]
  },
  {
   "cell_type": "code",
   "execution_count": null,
   "metadata": {},
   "outputs": [],
   "source": []
  }
 ],
 "metadata": {
  "colab": {
   "provenance": []
  },
  "kernelspec": {
   "display_name": "Python 3 (ipykernel)",
   "language": "python",
   "name": "python3"
  },
  "language_info": {
   "codemirror_mode": {
    "name": "ipython",
    "version": 3
   },
   "file_extension": ".py",
   "mimetype": "text/x-python",
   "name": "python",
   "nbconvert_exporter": "python",
   "pygments_lexer": "ipython3",
   "version": "3.12.3"
  }
 },
 "nbformat": 4,
 "nbformat_minor": 1
}
